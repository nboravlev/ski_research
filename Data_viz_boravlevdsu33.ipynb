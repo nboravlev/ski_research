{
  "nbformat": 4,
  "nbformat_minor": 0,
  "metadata": {
    "colab": {
      "provenance": [],
      "authorship_tag": "ABX9TyMrgj/trI3BuFG6ua0Fr70L"
    },
    "kernelspec": {
      "name": "python3",
      "display_name": "Python 3"
    },
    "language_info": {
      "name": "python"
    }
  },
  "cells": [
    {
      "cell_type": "code",
      "execution_count": 118,
      "metadata": {
        "id": "_PKRUUVskxiQ"
      },
      "outputs": [],
      "source": [
        "import pandas as pd\n",
        "import numpy as np\n",
        "import datetime as dt\n",
        "import matplotlib.pyplot as plt\n",
        "import seaborn as sns"
      ]
    },
    {
      "cell_type": "code",
      "source": [
        "from pylab import rcParams\n",
        "rcParams['figure.figsize'] = 11,7"
      ],
      "metadata": {
        "id": "Ky7ahavVze_X"
      },
      "execution_count": 119,
      "outputs": []
    },
    {
      "cell_type": "code",
      "source": [
        "ski_df = pd.read_csv('Ski_resort.csv', sep = ',')"
      ],
      "metadata": {
        "id": "-0-awAFYxBwI"
      },
      "execution_count": 120,
      "outputs": []
    },
    {
      "cell_type": "code",
      "source": [
        "ski_df.head()"
      ],
      "metadata": {
        "colab": {
          "base_uri": "https://localhost:8080/",
          "height": 357
        },
        "id": "8HmRGOpaxVgZ",
        "outputId": "bf88ce34-5e9a-4a8f-c00c-ab69186ef73c"
      },
      "execution_count": 121,
      "outputs": [
        {
          "output_type": "execute_result",
          "data": {
            "text/plain": [
              "     Type       Bought_in Date_of_purchase Acquisition_mode       Schedule  \\\n",
              "0  Season  Regular_season       2019-01-24          Package  Extended_Hour   \n",
              "1  Season  Regular_season       2019-01-22          On_site  Extended_Hour   \n",
              "2  Season  Outside_season       2018-11-11           Online  Extended_Hour   \n",
              "3  Season  Regular_season       2018-01-10          On_site  Extended_Hour   \n",
              "4  Season  Regular_season       2018-01-31           Online  Extended_Hour   \n",
              "\n",
              "  Initial_day Amount_of_days Original_Resort        Hotel         Id  \\\n",
              "0  2018-11-15      Unlimited  Valle Silbador  Elton Hotel  WSP-19102   \n",
              "1  2018-11-15      Unlimited  Valle Silbador        False  WSP-19122   \n",
              "2  2018-11-15      Unlimited  Valle Silbador        False  WSP-19131   \n",
              "3  2017-11-15      Unlimited  Valle Silbador        False  WSP-19152   \n",
              "4  2017-11-15      Unlimited  Valle Silbador        False  WSP-19154   \n",
              "\n",
              "   Selling_price  Total_price  \n",
              "0           1950       2925.0  \n",
              "1           1950       2925.0  \n",
              "2           1950       2925.0  \n",
              "3           1950       2925.0  \n",
              "4           1950       2925.0  "
            ],
            "text/html": [
              "\n",
              "  <div id=\"df-0f9fbde5-24b6-4add-a763-98da01ece1ca\">\n",
              "    <div class=\"colab-df-container\">\n",
              "      <div>\n",
              "<style scoped>\n",
              "    .dataframe tbody tr th:only-of-type {\n",
              "        vertical-align: middle;\n",
              "    }\n",
              "\n",
              "    .dataframe tbody tr th {\n",
              "        vertical-align: top;\n",
              "    }\n",
              "\n",
              "    .dataframe thead th {\n",
              "        text-align: right;\n",
              "    }\n",
              "</style>\n",
              "<table border=\"1\" class=\"dataframe\">\n",
              "  <thead>\n",
              "    <tr style=\"text-align: right;\">\n",
              "      <th></th>\n",
              "      <th>Type</th>\n",
              "      <th>Bought_in</th>\n",
              "      <th>Date_of_purchase</th>\n",
              "      <th>Acquisition_mode</th>\n",
              "      <th>Schedule</th>\n",
              "      <th>Initial_day</th>\n",
              "      <th>Amount_of_days</th>\n",
              "      <th>Original_Resort</th>\n",
              "      <th>Hotel</th>\n",
              "      <th>Id</th>\n",
              "      <th>Selling_price</th>\n",
              "      <th>Total_price</th>\n",
              "    </tr>\n",
              "  </thead>\n",
              "  <tbody>\n",
              "    <tr>\n",
              "      <th>0</th>\n",
              "      <td>Season</td>\n",
              "      <td>Regular_season</td>\n",
              "      <td>2019-01-24</td>\n",
              "      <td>Package</td>\n",
              "      <td>Extended_Hour</td>\n",
              "      <td>2018-11-15</td>\n",
              "      <td>Unlimited</td>\n",
              "      <td>Valle Silbador</td>\n",
              "      <td>Elton Hotel</td>\n",
              "      <td>WSP-19102</td>\n",
              "      <td>1950</td>\n",
              "      <td>2925.0</td>\n",
              "    </tr>\n",
              "    <tr>\n",
              "      <th>1</th>\n",
              "      <td>Season</td>\n",
              "      <td>Regular_season</td>\n",
              "      <td>2019-01-22</td>\n",
              "      <td>On_site</td>\n",
              "      <td>Extended_Hour</td>\n",
              "      <td>2018-11-15</td>\n",
              "      <td>Unlimited</td>\n",
              "      <td>Valle Silbador</td>\n",
              "      <td>False</td>\n",
              "      <td>WSP-19122</td>\n",
              "      <td>1950</td>\n",
              "      <td>2925.0</td>\n",
              "    </tr>\n",
              "    <tr>\n",
              "      <th>2</th>\n",
              "      <td>Season</td>\n",
              "      <td>Outside_season</td>\n",
              "      <td>2018-11-11</td>\n",
              "      <td>Online</td>\n",
              "      <td>Extended_Hour</td>\n",
              "      <td>2018-11-15</td>\n",
              "      <td>Unlimited</td>\n",
              "      <td>Valle Silbador</td>\n",
              "      <td>False</td>\n",
              "      <td>WSP-19131</td>\n",
              "      <td>1950</td>\n",
              "      <td>2925.0</td>\n",
              "    </tr>\n",
              "    <tr>\n",
              "      <th>3</th>\n",
              "      <td>Season</td>\n",
              "      <td>Regular_season</td>\n",
              "      <td>2018-01-10</td>\n",
              "      <td>On_site</td>\n",
              "      <td>Extended_Hour</td>\n",
              "      <td>2017-11-15</td>\n",
              "      <td>Unlimited</td>\n",
              "      <td>Valle Silbador</td>\n",
              "      <td>False</td>\n",
              "      <td>WSP-19152</td>\n",
              "      <td>1950</td>\n",
              "      <td>2925.0</td>\n",
              "    </tr>\n",
              "    <tr>\n",
              "      <th>4</th>\n",
              "      <td>Season</td>\n",
              "      <td>Regular_season</td>\n",
              "      <td>2018-01-31</td>\n",
              "      <td>Online</td>\n",
              "      <td>Extended_Hour</td>\n",
              "      <td>2017-11-15</td>\n",
              "      <td>Unlimited</td>\n",
              "      <td>Valle Silbador</td>\n",
              "      <td>False</td>\n",
              "      <td>WSP-19154</td>\n",
              "      <td>1950</td>\n",
              "      <td>2925.0</td>\n",
              "    </tr>\n",
              "  </tbody>\n",
              "</table>\n",
              "</div>\n",
              "      <button class=\"colab-df-convert\" onclick=\"convertToInteractive('df-0f9fbde5-24b6-4add-a763-98da01ece1ca')\"\n",
              "              title=\"Convert this dataframe to an interactive table.\"\n",
              "              style=\"display:none;\">\n",
              "        \n",
              "  <svg xmlns=\"http://www.w3.org/2000/svg\" height=\"24px\"viewBox=\"0 0 24 24\"\n",
              "       width=\"24px\">\n",
              "    <path d=\"M0 0h24v24H0V0z\" fill=\"none\"/>\n",
              "    <path d=\"M18.56 5.44l.94 2.06.94-2.06 2.06-.94-2.06-.94-.94-2.06-.94 2.06-2.06.94zm-11 1L8.5 8.5l.94-2.06 2.06-.94-2.06-.94L8.5 2.5l-.94 2.06-2.06.94zm10 10l.94 2.06.94-2.06 2.06-.94-2.06-.94-.94-2.06-.94 2.06-2.06.94z\"/><path d=\"M17.41 7.96l-1.37-1.37c-.4-.4-.92-.59-1.43-.59-.52 0-1.04.2-1.43.59L10.3 9.45l-7.72 7.72c-.78.78-.78 2.05 0 2.83L4 21.41c.39.39.9.59 1.41.59.51 0 1.02-.2 1.41-.59l7.78-7.78 2.81-2.81c.8-.78.8-2.07 0-2.86zM5.41 20L4 18.59l7.72-7.72 1.47 1.35L5.41 20z\"/>\n",
              "  </svg>\n",
              "      </button>\n",
              "      \n",
              "  <style>\n",
              "    .colab-df-container {\n",
              "      display:flex;\n",
              "      flex-wrap:wrap;\n",
              "      gap: 12px;\n",
              "    }\n",
              "\n",
              "    .colab-df-convert {\n",
              "      background-color: #E8F0FE;\n",
              "      border: none;\n",
              "      border-radius: 50%;\n",
              "      cursor: pointer;\n",
              "      display: none;\n",
              "      fill: #1967D2;\n",
              "      height: 32px;\n",
              "      padding: 0 0 0 0;\n",
              "      width: 32px;\n",
              "    }\n",
              "\n",
              "    .colab-df-convert:hover {\n",
              "      background-color: #E2EBFA;\n",
              "      box-shadow: 0px 1px 2px rgba(60, 64, 67, 0.3), 0px 1px 3px 1px rgba(60, 64, 67, 0.15);\n",
              "      fill: #174EA6;\n",
              "    }\n",
              "\n",
              "    [theme=dark] .colab-df-convert {\n",
              "      background-color: #3B4455;\n",
              "      fill: #D2E3FC;\n",
              "    }\n",
              "\n",
              "    [theme=dark] .colab-df-convert:hover {\n",
              "      background-color: #434B5C;\n",
              "      box-shadow: 0px 1px 3px 1px rgba(0, 0, 0, 0.15);\n",
              "      filter: drop-shadow(0px 1px 2px rgba(0, 0, 0, 0.3));\n",
              "      fill: #FFFFFF;\n",
              "    }\n",
              "  </style>\n",
              "\n",
              "      <script>\n",
              "        const buttonEl =\n",
              "          document.querySelector('#df-0f9fbde5-24b6-4add-a763-98da01ece1ca button.colab-df-convert');\n",
              "        buttonEl.style.display =\n",
              "          google.colab.kernel.accessAllowed ? 'block' : 'none';\n",
              "\n",
              "        async function convertToInteractive(key) {\n",
              "          const element = document.querySelector('#df-0f9fbde5-24b6-4add-a763-98da01ece1ca');\n",
              "          const dataTable =\n",
              "            await google.colab.kernel.invokeFunction('convertToInteractive',\n",
              "                                                     [key], {});\n",
              "          if (!dataTable) return;\n",
              "\n",
              "          const docLinkHtml = 'Like what you see? Visit the ' +\n",
              "            '<a target=\"_blank\" href=https://colab.research.google.com/notebooks/data_table.ipynb>data table notebook</a>'\n",
              "            + ' to learn more about interactive tables.';\n",
              "          element.innerHTML = '';\n",
              "          dataTable['output_type'] = 'display_data';\n",
              "          await google.colab.output.renderOutput(dataTable, element);\n",
              "          const docLink = document.createElement('div');\n",
              "          docLink.innerHTML = docLinkHtml;\n",
              "          element.appendChild(docLink);\n",
              "        }\n",
              "      </script>\n",
              "    </div>\n",
              "  </div>\n",
              "  "
            ]
          },
          "metadata": {},
          "execution_count": 121
        }
      ]
    },
    {
      "cell_type": "code",
      "source": [
        "ski_df.Hotel = ski_df.Hotel.replace('False','no_info')#в целом шило на мыло. Теперь, гости, которые не бронировали отель к каталке, \n",
        "#будут в категории no_info"
      ],
      "metadata": {
        "id": "tlZI5vaujlLR"
      },
      "execution_count": 122,
      "outputs": []
    },
    {
      "cell_type": "code",
      "source": [
        "print(ski_df.shape)"
      ],
      "metadata": {
        "colab": {
          "base_uri": "https://localhost:8080/"
        },
        "id": "TgwCwcB7ynrY",
        "outputId": "6d70eea8-f2d3-435f-ac9f-0009463d3aef"
      },
      "execution_count": 123,
      "outputs": [
        {
          "output_type": "stream",
          "name": "stdout",
          "text": [
            "(906, 12)\n"
          ]
        }
      ]
    },
    {
      "cell_type": "code",
      "source": [
        "ski_df.info()"
      ],
      "metadata": {
        "colab": {
          "base_uri": "https://localhost:8080/"
        },
        "id": "KEOCgtTyzX2v",
        "outputId": "0d2bac21-bcf0-4abf-94e5-7311aaf059e6"
      },
      "execution_count": 124,
      "outputs": [
        {
          "output_type": "stream",
          "name": "stdout",
          "text": [
            "<class 'pandas.core.frame.DataFrame'>\n",
            "RangeIndex: 906 entries, 0 to 905\n",
            "Data columns (total 12 columns):\n",
            " #   Column            Non-Null Count  Dtype  \n",
            "---  ------            --------------  -----  \n",
            " 0   Type              906 non-null    object \n",
            " 1   Bought_in         906 non-null    object \n",
            " 2   Date_of_purchase  906 non-null    object \n",
            " 3   Acquisition_mode  906 non-null    object \n",
            " 4   Schedule          906 non-null    object \n",
            " 5   Initial_day       906 non-null    object \n",
            " 6   Amount_of_days    906 non-null    object \n",
            " 7   Original_Resort   906 non-null    object \n",
            " 8   Hotel             906 non-null    object \n",
            " 9   Id                906 non-null    object \n",
            " 10  Selling_price     906 non-null    int64  \n",
            " 11  Total_price       906 non-null    float64\n",
            "dtypes: float64(1), int64(1), object(10)\n",
            "memory usage: 85.1+ KB\n"
          ]
        }
      ]
    },
    {
      "cell_type": "code",
      "source": [
        "ski_df.Acquisition_mode.unique()"
      ],
      "metadata": {
        "colab": {
          "base_uri": "https://localhost:8080/"
        },
        "id": "o7Bq0vUYf7UR",
        "outputId": "97013e46-b841-4a2a-c267-0e73c29c0ac4"
      },
      "execution_count": 125,
      "outputs": [
        {
          "output_type": "execute_result",
          "data": {
            "text/plain": [
              "array(['Package', 'On_site', 'Online', 'Red HEROIC'], dtype=object)"
            ]
          },
          "metadata": {},
          "execution_count": 125
        }
      ]
    },
    {
      "cell_type": "code",
      "source": [
        "ski_df.Amount_of_days = ski_df.Amount_of_days.replace('Unlimited',10)#в принципе это такая категориальная переменная скорее, 10 = сезонный скипасс"
      ],
      "metadata": {
        "id": "TSJIJJOmBkdT"
      },
      "execution_count": 126,
      "outputs": []
    },
    {
      "cell_type": "code",
      "source": [
        "ski_df.Amount_of_days = ski_df.Amount_of_days.astype(np.int64)"
      ],
      "metadata": {
        "id": "23aQo0_xBsXK"
      },
      "execution_count": 127,
      "outputs": []
    },
    {
      "cell_type": "code",
      "source": [
        "ski_df.Hotel.unique()"
      ],
      "metadata": {
        "colab": {
          "base_uri": "https://localhost:8080/"
        },
        "id": "4wfx_-H-242S",
        "outputId": "48122f73-72ca-45ca-8610-bba4ca74f19c"
      },
      "execution_count": 128,
      "outputs": [
        {
          "output_type": "execute_result",
          "data": {
            "text/plain": [
              "array(['Elton Hotel', 'no_info', 'Ridossan Hotel', 'Haiit Hotel',\n",
              "       'OI Hotels', 'Ski Inn'], dtype=object)"
            ]
          },
          "metadata": {},
          "execution_count": 128
        }
      ]
    },
    {
      "cell_type": "code",
      "source": [
        "ski_df.Date_of_purchase = pd.to_datetime(ski_df['Date_of_purchase'])#приведение к типу данных date\n",
        "ski_df.Initial_day = pd.to_datetime(ski_df['Initial_day'])\n"
      ],
      "metadata": {
        "id": "MMAPigZx5r_M"
      },
      "execution_count": 129,
      "outputs": []
    },
    {
      "cell_type": "code",
      "source": [
        "ski_df['Month_of_purchase'] = ski_df['Date_of_purchase'].values.astype('<M8[M]')#новая колонка, где будет жить месяц оплаты для разных группировок"
      ],
      "metadata": {
        "id": "X3mCPaAAuvRR"
      },
      "execution_count": 130,
      "outputs": []
    },
    {
      "cell_type": "code",
      "source": [
        "ski_df.Date_of_purchase.min()"
      ],
      "metadata": {
        "colab": {
          "base_uri": "https://localhost:8080/"
        },
        "id": "Gwnjiyugly9t",
        "outputId": "0924b4c1-65e9-48ed-856d-066af133a259"
      },
      "execution_count": 131,
      "outputs": [
        {
          "output_type": "execute_result",
          "data": {
            "text/plain": [
              "Timestamp('2017-04-05 00:00:00')"
            ]
          },
          "metadata": {},
          "execution_count": 131
        }
      ]
    },
    {
      "cell_type": "code",
      "source": [
        "ski_df.Date_of_purchase.max()"
      ],
      "metadata": {
        "colab": {
          "base_uri": "https://localhost:8080/"
        },
        "id": "j99li2p4Gu7d",
        "outputId": "8432755e-92a5-4d93-b42f-8ab8f88c2a15"
      },
      "execution_count": 132,
      "outputs": [
        {
          "output_type": "execute_result",
          "data": {
            "text/plain": [
              "Timestamp('2019-04-01 00:00:00')"
            ]
          },
          "metadata": {},
          "execution_count": 132
        }
      ]
    },
    {
      "cell_type": "code",
      "source": [
        "ski_r = ski_df[['Id','Bought_in','Date_of_purchase','Month_of_purchase','Initial_day','Schedule','Amount_of_days','Original_Resort','Hotel','Total_price']]\n"
      ],
      "metadata": {
        "id": "Ju-JIMpKfHRJ"
      },
      "execution_count": 133,
      "outputs": []
    },
    {
      "cell_type": "code",
      "source": [
        "ski_r.head(5)#кажись, ДФ готовый к работе. Мы имеем данные о продаже скипассов на курорты за период апрель 2017 - апрель 2019;\n",
        "#скипассы бывают на определенное количество дней и безлимит на сезон/ они продаются вне сезона и в течение сезона (две категории)/\n",
        "#есть скипасы на утренние часы/ полуденные и на целый день/\n",
        "# также есть люди,котрые со скипассом покупали себе отель\n",
        "#выходит, вcе Айди уникальны, т.е. покупателей мы не идентифицируем, только транзакции"
      ],
      "metadata": {
        "colab": {
          "base_uri": "https://localhost:8080/",
          "height": 357
        },
        "id": "FjWPQ9zBHAAW",
        "outputId": "f5f757ed-944a-4ccf-a5d5-6ce475a1e19e"
      },
      "execution_count": 134,
      "outputs": [
        {
          "output_type": "execute_result",
          "data": {
            "text/plain": [
              "          Id       Bought_in Date_of_purchase Month_of_purchase Initial_day  \\\n",
              "0  WSP-19102  Regular_season       2019-01-24        2019-01-01  2018-11-15   \n",
              "1  WSP-19122  Regular_season       2019-01-22        2019-01-01  2018-11-15   \n",
              "2  WSP-19131  Outside_season       2018-11-11        2018-11-01  2018-11-15   \n",
              "3  WSP-19152  Regular_season       2018-01-10        2018-01-01  2017-11-15   \n",
              "4  WSP-19154  Regular_season       2018-01-31        2018-01-01  2017-11-15   \n",
              "\n",
              "        Schedule  Amount_of_days Original_Resort        Hotel  Total_price  \n",
              "0  Extended_Hour              10  Valle Silbador  Elton Hotel       2925.0  \n",
              "1  Extended_Hour              10  Valle Silbador      no_info       2925.0  \n",
              "2  Extended_Hour              10  Valle Silbador      no_info       2925.0  \n",
              "3  Extended_Hour              10  Valle Silbador      no_info       2925.0  \n",
              "4  Extended_Hour              10  Valle Silbador      no_info       2925.0  "
            ],
            "text/html": [
              "\n",
              "  <div id=\"df-406c199c-9cb1-4967-8815-d9b32790a05d\">\n",
              "    <div class=\"colab-df-container\">\n",
              "      <div>\n",
              "<style scoped>\n",
              "    .dataframe tbody tr th:only-of-type {\n",
              "        vertical-align: middle;\n",
              "    }\n",
              "\n",
              "    .dataframe tbody tr th {\n",
              "        vertical-align: top;\n",
              "    }\n",
              "\n",
              "    .dataframe thead th {\n",
              "        text-align: right;\n",
              "    }\n",
              "</style>\n",
              "<table border=\"1\" class=\"dataframe\">\n",
              "  <thead>\n",
              "    <tr style=\"text-align: right;\">\n",
              "      <th></th>\n",
              "      <th>Id</th>\n",
              "      <th>Bought_in</th>\n",
              "      <th>Date_of_purchase</th>\n",
              "      <th>Month_of_purchase</th>\n",
              "      <th>Initial_day</th>\n",
              "      <th>Schedule</th>\n",
              "      <th>Amount_of_days</th>\n",
              "      <th>Original_Resort</th>\n",
              "      <th>Hotel</th>\n",
              "      <th>Total_price</th>\n",
              "    </tr>\n",
              "  </thead>\n",
              "  <tbody>\n",
              "    <tr>\n",
              "      <th>0</th>\n",
              "      <td>WSP-19102</td>\n",
              "      <td>Regular_season</td>\n",
              "      <td>2019-01-24</td>\n",
              "      <td>2019-01-01</td>\n",
              "      <td>2018-11-15</td>\n",
              "      <td>Extended_Hour</td>\n",
              "      <td>10</td>\n",
              "      <td>Valle Silbador</td>\n",
              "      <td>Elton Hotel</td>\n",
              "      <td>2925.0</td>\n",
              "    </tr>\n",
              "    <tr>\n",
              "      <th>1</th>\n",
              "      <td>WSP-19122</td>\n",
              "      <td>Regular_season</td>\n",
              "      <td>2019-01-22</td>\n",
              "      <td>2019-01-01</td>\n",
              "      <td>2018-11-15</td>\n",
              "      <td>Extended_Hour</td>\n",
              "      <td>10</td>\n",
              "      <td>Valle Silbador</td>\n",
              "      <td>no_info</td>\n",
              "      <td>2925.0</td>\n",
              "    </tr>\n",
              "    <tr>\n",
              "      <th>2</th>\n",
              "      <td>WSP-19131</td>\n",
              "      <td>Outside_season</td>\n",
              "      <td>2018-11-11</td>\n",
              "      <td>2018-11-01</td>\n",
              "      <td>2018-11-15</td>\n",
              "      <td>Extended_Hour</td>\n",
              "      <td>10</td>\n",
              "      <td>Valle Silbador</td>\n",
              "      <td>no_info</td>\n",
              "      <td>2925.0</td>\n",
              "    </tr>\n",
              "    <tr>\n",
              "      <th>3</th>\n",
              "      <td>WSP-19152</td>\n",
              "      <td>Regular_season</td>\n",
              "      <td>2018-01-10</td>\n",
              "      <td>2018-01-01</td>\n",
              "      <td>2017-11-15</td>\n",
              "      <td>Extended_Hour</td>\n",
              "      <td>10</td>\n",
              "      <td>Valle Silbador</td>\n",
              "      <td>no_info</td>\n",
              "      <td>2925.0</td>\n",
              "    </tr>\n",
              "    <tr>\n",
              "      <th>4</th>\n",
              "      <td>WSP-19154</td>\n",
              "      <td>Regular_season</td>\n",
              "      <td>2018-01-31</td>\n",
              "      <td>2018-01-01</td>\n",
              "      <td>2017-11-15</td>\n",
              "      <td>Extended_Hour</td>\n",
              "      <td>10</td>\n",
              "      <td>Valle Silbador</td>\n",
              "      <td>no_info</td>\n",
              "      <td>2925.0</td>\n",
              "    </tr>\n",
              "  </tbody>\n",
              "</table>\n",
              "</div>\n",
              "      <button class=\"colab-df-convert\" onclick=\"convertToInteractive('df-406c199c-9cb1-4967-8815-d9b32790a05d')\"\n",
              "              title=\"Convert this dataframe to an interactive table.\"\n",
              "              style=\"display:none;\">\n",
              "        \n",
              "  <svg xmlns=\"http://www.w3.org/2000/svg\" height=\"24px\"viewBox=\"0 0 24 24\"\n",
              "       width=\"24px\">\n",
              "    <path d=\"M0 0h24v24H0V0z\" fill=\"none\"/>\n",
              "    <path d=\"M18.56 5.44l.94 2.06.94-2.06 2.06-.94-2.06-.94-.94-2.06-.94 2.06-2.06.94zm-11 1L8.5 8.5l.94-2.06 2.06-.94-2.06-.94L8.5 2.5l-.94 2.06-2.06.94zm10 10l.94 2.06.94-2.06 2.06-.94-2.06-.94-.94-2.06-.94 2.06-2.06.94z\"/><path d=\"M17.41 7.96l-1.37-1.37c-.4-.4-.92-.59-1.43-.59-.52 0-1.04.2-1.43.59L10.3 9.45l-7.72 7.72c-.78.78-.78 2.05 0 2.83L4 21.41c.39.39.9.59 1.41.59.51 0 1.02-.2 1.41-.59l7.78-7.78 2.81-2.81c.8-.78.8-2.07 0-2.86zM5.41 20L4 18.59l7.72-7.72 1.47 1.35L5.41 20z\"/>\n",
              "  </svg>\n",
              "      </button>\n",
              "      \n",
              "  <style>\n",
              "    .colab-df-container {\n",
              "      display:flex;\n",
              "      flex-wrap:wrap;\n",
              "      gap: 12px;\n",
              "    }\n",
              "\n",
              "    .colab-df-convert {\n",
              "      background-color: #E8F0FE;\n",
              "      border: none;\n",
              "      border-radius: 50%;\n",
              "      cursor: pointer;\n",
              "      display: none;\n",
              "      fill: #1967D2;\n",
              "      height: 32px;\n",
              "      padding: 0 0 0 0;\n",
              "      width: 32px;\n",
              "    }\n",
              "\n",
              "    .colab-df-convert:hover {\n",
              "      background-color: #E2EBFA;\n",
              "      box-shadow: 0px 1px 2px rgba(60, 64, 67, 0.3), 0px 1px 3px 1px rgba(60, 64, 67, 0.15);\n",
              "      fill: #174EA6;\n",
              "    }\n",
              "\n",
              "    [theme=dark] .colab-df-convert {\n",
              "      background-color: #3B4455;\n",
              "      fill: #D2E3FC;\n",
              "    }\n",
              "\n",
              "    [theme=dark] .colab-df-convert:hover {\n",
              "      background-color: #434B5C;\n",
              "      box-shadow: 0px 1px 3px 1px rgba(0, 0, 0, 0.15);\n",
              "      filter: drop-shadow(0px 1px 2px rgba(0, 0, 0, 0.3));\n",
              "      fill: #FFFFFF;\n",
              "    }\n",
              "  </style>\n",
              "\n",
              "      <script>\n",
              "        const buttonEl =\n",
              "          document.querySelector('#df-406c199c-9cb1-4967-8815-d9b32790a05d button.colab-df-convert');\n",
              "        buttonEl.style.display =\n",
              "          google.colab.kernel.accessAllowed ? 'block' : 'none';\n",
              "\n",
              "        async function convertToInteractive(key) {\n",
              "          const element = document.querySelector('#df-406c199c-9cb1-4967-8815-d9b32790a05d');\n",
              "          const dataTable =\n",
              "            await google.colab.kernel.invokeFunction('convertToInteractive',\n",
              "                                                     [key], {});\n",
              "          if (!dataTable) return;\n",
              "\n",
              "          const docLinkHtml = 'Like what you see? Visit the ' +\n",
              "            '<a target=\"_blank\" href=https://colab.research.google.com/notebooks/data_table.ipynb>data table notebook</a>'\n",
              "            + ' to learn more about interactive tables.';\n",
              "          element.innerHTML = '';\n",
              "          dataTable['output_type'] = 'display_data';\n",
              "          await google.colab.output.renderOutput(dataTable, element);\n",
              "          const docLink = document.createElement('div');\n",
              "          docLink.innerHTML = docLinkHtml;\n",
              "          element.appendChild(docLink);\n",
              "        }\n",
              "      </script>\n",
              "    </div>\n",
              "  </div>\n",
              "  "
            ]
          },
          "metadata": {},
          "execution_count": 134
        }
      ]
    },
    {
      "cell_type": "markdown",
      "source": [
        "#1"
      ],
      "metadata": {
        "id": "r_EbXP_J6ITx"
      }
    },
    {
      "cell_type": "code",
      "source": [
        "#1 хотелось бы продемонстирировать все продажи и все посещения суммарно с динамико по месяцам\n",
        "ski_total = ski_r.groupby('Month_of_purchase', as_index = False).agg({'Id':'count','Total_price':'sum'})\n",
        "ski_total.head()"
      ],
      "metadata": {
        "colab": {
          "base_uri": "https://localhost:8080/",
          "height": 206
        },
        "id": "1tmyUzw_wmfD",
        "outputId": "df663636-51f4-4329-f089-894358b049e1"
      },
      "execution_count": 135,
      "outputs": [
        {
          "output_type": "execute_result",
          "data": {
            "text/plain": [
              "  Month_of_purchase  Id  Total_price\n",
              "0        2017-04-01   8       6375.0\n",
              "1        2017-05-01   9      14340.0\n",
              "2        2017-06-01  10      12705.0\n",
              "3        2017-07-01  12      13522.5\n",
              "4        2017-08-01  14      12780.0"
            ],
            "text/html": [
              "\n",
              "  <div id=\"df-3fcaf778-4bd3-42c2-8f20-d098fb59631e\">\n",
              "    <div class=\"colab-df-container\">\n",
              "      <div>\n",
              "<style scoped>\n",
              "    .dataframe tbody tr th:only-of-type {\n",
              "        vertical-align: middle;\n",
              "    }\n",
              "\n",
              "    .dataframe tbody tr th {\n",
              "        vertical-align: top;\n",
              "    }\n",
              "\n",
              "    .dataframe thead th {\n",
              "        text-align: right;\n",
              "    }\n",
              "</style>\n",
              "<table border=\"1\" class=\"dataframe\">\n",
              "  <thead>\n",
              "    <tr style=\"text-align: right;\">\n",
              "      <th></th>\n",
              "      <th>Month_of_purchase</th>\n",
              "      <th>Id</th>\n",
              "      <th>Total_price</th>\n",
              "    </tr>\n",
              "  </thead>\n",
              "  <tbody>\n",
              "    <tr>\n",
              "      <th>0</th>\n",
              "      <td>2017-04-01</td>\n",
              "      <td>8</td>\n",
              "      <td>6375.0</td>\n",
              "    </tr>\n",
              "    <tr>\n",
              "      <th>1</th>\n",
              "      <td>2017-05-01</td>\n",
              "      <td>9</td>\n",
              "      <td>14340.0</td>\n",
              "    </tr>\n",
              "    <tr>\n",
              "      <th>2</th>\n",
              "      <td>2017-06-01</td>\n",
              "      <td>10</td>\n",
              "      <td>12705.0</td>\n",
              "    </tr>\n",
              "    <tr>\n",
              "      <th>3</th>\n",
              "      <td>2017-07-01</td>\n",
              "      <td>12</td>\n",
              "      <td>13522.5</td>\n",
              "    </tr>\n",
              "    <tr>\n",
              "      <th>4</th>\n",
              "      <td>2017-08-01</td>\n",
              "      <td>14</td>\n",
              "      <td>12780.0</td>\n",
              "    </tr>\n",
              "  </tbody>\n",
              "</table>\n",
              "</div>\n",
              "      <button class=\"colab-df-convert\" onclick=\"convertToInteractive('df-3fcaf778-4bd3-42c2-8f20-d098fb59631e')\"\n",
              "              title=\"Convert this dataframe to an interactive table.\"\n",
              "              style=\"display:none;\">\n",
              "        \n",
              "  <svg xmlns=\"http://www.w3.org/2000/svg\" height=\"24px\"viewBox=\"0 0 24 24\"\n",
              "       width=\"24px\">\n",
              "    <path d=\"M0 0h24v24H0V0z\" fill=\"none\"/>\n",
              "    <path d=\"M18.56 5.44l.94 2.06.94-2.06 2.06-.94-2.06-.94-.94-2.06-.94 2.06-2.06.94zm-11 1L8.5 8.5l.94-2.06 2.06-.94-2.06-.94L8.5 2.5l-.94 2.06-2.06.94zm10 10l.94 2.06.94-2.06 2.06-.94-2.06-.94-.94-2.06-.94 2.06-2.06.94z\"/><path d=\"M17.41 7.96l-1.37-1.37c-.4-.4-.92-.59-1.43-.59-.52 0-1.04.2-1.43.59L10.3 9.45l-7.72 7.72c-.78.78-.78 2.05 0 2.83L4 21.41c.39.39.9.59 1.41.59.51 0 1.02-.2 1.41-.59l7.78-7.78 2.81-2.81c.8-.78.8-2.07 0-2.86zM5.41 20L4 18.59l7.72-7.72 1.47 1.35L5.41 20z\"/>\n",
              "  </svg>\n",
              "      </button>\n",
              "      \n",
              "  <style>\n",
              "    .colab-df-container {\n",
              "      display:flex;\n",
              "      flex-wrap:wrap;\n",
              "      gap: 12px;\n",
              "    }\n",
              "\n",
              "    .colab-df-convert {\n",
              "      background-color: #E8F0FE;\n",
              "      border: none;\n",
              "      border-radius: 50%;\n",
              "      cursor: pointer;\n",
              "      display: none;\n",
              "      fill: #1967D2;\n",
              "      height: 32px;\n",
              "      padding: 0 0 0 0;\n",
              "      width: 32px;\n",
              "    }\n",
              "\n",
              "    .colab-df-convert:hover {\n",
              "      background-color: #E2EBFA;\n",
              "      box-shadow: 0px 1px 2px rgba(60, 64, 67, 0.3), 0px 1px 3px 1px rgba(60, 64, 67, 0.15);\n",
              "      fill: #174EA6;\n",
              "    }\n",
              "\n",
              "    [theme=dark] .colab-df-convert {\n",
              "      background-color: #3B4455;\n",
              "      fill: #D2E3FC;\n",
              "    }\n",
              "\n",
              "    [theme=dark] .colab-df-convert:hover {\n",
              "      background-color: #434B5C;\n",
              "      box-shadow: 0px 1px 3px 1px rgba(0, 0, 0, 0.15);\n",
              "      filter: drop-shadow(0px 1px 2px rgba(0, 0, 0, 0.3));\n",
              "      fill: #FFFFFF;\n",
              "    }\n",
              "  </style>\n",
              "\n",
              "      <script>\n",
              "        const buttonEl =\n",
              "          document.querySelector('#df-3fcaf778-4bd3-42c2-8f20-d098fb59631e button.colab-df-convert');\n",
              "        buttonEl.style.display =\n",
              "          google.colab.kernel.accessAllowed ? 'block' : 'none';\n",
              "\n",
              "        async function convertToInteractive(key) {\n",
              "          const element = document.querySelector('#df-3fcaf778-4bd3-42c2-8f20-d098fb59631e');\n",
              "          const dataTable =\n",
              "            await google.colab.kernel.invokeFunction('convertToInteractive',\n",
              "                                                     [key], {});\n",
              "          if (!dataTable) return;\n",
              "\n",
              "          const docLinkHtml = 'Like what you see? Visit the ' +\n",
              "            '<a target=\"_blank\" href=https://colab.research.google.com/notebooks/data_table.ipynb>data table notebook</a>'\n",
              "            + ' to learn more about interactive tables.';\n",
              "          element.innerHTML = '';\n",
              "          dataTable['output_type'] = 'display_data';\n",
              "          await google.colab.output.renderOutput(dataTable, element);\n",
              "          const docLink = document.createElement('div');\n",
              "          docLink.innerHTML = docLinkHtml;\n",
              "          element.appendChild(docLink);\n",
              "        }\n",
              "      </script>\n",
              "    </div>\n",
              "  </div>\n",
              "  "
            ]
          },
          "metadata": {},
          "execution_count": 135
        }
      ]
    },
    {
      "cell_type": "code",
      "source": [
        "plt.plot(ski_total['Month_of_purchase'],ski_total['Total_price'], color = 'blue')\n"
      ],
      "metadata": {
        "colab": {
          "base_uri": "https://localhost:8080/",
          "height": 451
        },
        "id": "Eoy3WUZqmPEI",
        "outputId": "383f7491-3bd4-4219-e3b7-5002a1d76bfb"
      },
      "execution_count": 136,
      "outputs": [
        {
          "output_type": "execute_result",
          "data": {
            "text/plain": [
              "[<matplotlib.lines.Line2D at 0x7f6a41e4b130>]"
            ]
          },
          "metadata": {},
          "execution_count": 136
        },
        {
          "output_type": "display_data",
          "data": {
            "text/plain": [
              "<Figure size 792x504 with 1 Axes>"
            ],
            "image/png": "[encoded data removed]"
          },
          "metadata": {}
        }
      ]
    },
    {
      "cell_type": "code",
      "source": [
        "plt.plot(ski_total['Month_of_purchase'],ski_total['Id'], color = 'green')"
      ],
      "metadata": {
        "colab": {
          "base_uri": "https://localhost:8080/",
          "height": 448
        },
        "id": "b0ttRPJBwK3m",
        "outputId": "bcdaa4e3-8e22-4437-f037-d77c31dd27c3"
      },
      "execution_count": 137,
      "outputs": [
        {
          "output_type": "execute_result",
          "data": {
            "text/plain": [
              "[<matplotlib.lines.Line2D at 0x7f6a41decee0>]"
            ]
          },
          "metadata": {},
          "execution_count": 137
        },
        {
          "output_type": "display_data",
          "data": {
            "text/plain": [
              "<Figure size 792x504 with 1 Axes>"
            ],
            "image/png": "[encoded data removed]"
          },
          "metadata": {}
        }
      ]
    },
    {
      "cell_type": "markdown",
      "source": [
        "Несопоставимые величины, не получается вывести на один график. Динамика продаж повторяет динамику посещений. Видно, что показатели 2019 выше, чем 2018. Провал после новогодних каникул просматривается, возможно, потому что очень эффективно отработали новогодние, потом не смогли удержать. Нужно смотреть какие маркетинговые инструменты применялись, падение нижу уровня 2018 это очень плохо, сезон и так к не длинный, нельзя такого допускать. Потом удалось как-то отыграть."
      ],
      "metadata": {
        "id": "-5Wc5GiMwWcU"
      }
    },
    {
      "cell_type": "markdown",
      "source": [
        "#2"
      ],
      "metadata": {
        "id": "t5UrpXn16EIi"
      }
    },
    {
      "cell_type": "code",
      "source": [
        "ski_r['year'] = ski_r['Date_of_purchase'].values.astype('<M8[Y]')\n"
      ],
      "metadata": {
        "id": "3YomrGy5xuRo"
      },
      "execution_count": null,
      "outputs": []
    },
    {
      "cell_type": "code",
      "source": [
        "ski_resort = ski_r.pivot_table(index = 'Original_Resort', columns = 'year', values = 'Total_price', aggfunc = 'sum')"
      ],
      "metadata": {
        "id": "pVk56GkR3hp7"
      },
      "execution_count": 139,
      "outputs": []
    },
    {
      "cell_type": "code",
      "source": [
        "ski_resort.head()"
      ],
      "metadata": {
        "colab": {
          "base_uri": "https://localhost:8080/",
          "height": 238
        },
        "id": "rJgSvFEa4Siv",
        "outputId": "10f77db3-2981-415e-aa07-1738fa0189be"
      },
      "execution_count": 140,
      "outputs": [
        {
          "output_type": "execute_result",
          "data": {
            "text/plain": [
              "year              2017-01-01  2018-01-01  2019-01-01\n",
              "Original_Resort                                     \n",
              "Cresta Velo          13860.0     33600.0     23100.0\n",
              "Montaña Panadero     16590.0     38010.0     22050.0\n",
              "Monte Japón              NaN      8190.0       840.0\n",
              "Puente Roto          14490.0     16800.0     16380.0\n",
              "Ski Comanche          5040.0     20160.0      8400.0"
            ],
            "text/html": [
              "\n",
              "  <div id=\"df-efa8f573-64e5-46bc-bc48-d74241fcb6d7\">\n",
              "    <div class=\"colab-df-container\">\n",
              "      <div>\n",
              "<style scoped>\n",
              "    .dataframe tbody tr th:only-of-type {\n",
              "        vertical-align: middle;\n",
              "    }\n",
              "\n",
              "    .dataframe tbody tr th {\n",
              "        vertical-align: top;\n",
              "    }\n",
              "\n",
              "    .dataframe thead th {\n",
              "        text-align: right;\n",
              "    }\n",
              "</style>\n",
              "<table border=\"1\" class=\"dataframe\">\n",
              "  <thead>\n",
              "    <tr style=\"text-align: right;\">\n",
              "      <th>year</th>\n",
              "      <th>2017-01-01</th>\n",
              "      <th>2018-01-01</th>\n",
              "      <th>2019-01-01</th>\n",
              "    </tr>\n",
              "    <tr>\n",
              "      <th>Original_Resort</th>\n",
              "      <th></th>\n",
              "      <th></th>\n",
              "      <th></th>\n",
              "    </tr>\n",
              "  </thead>\n",
              "  <tbody>\n",
              "    <tr>\n",
              "      <th>Cresta Velo</th>\n",
              "      <td>13860.0</td>\n",
              "      <td>33600.0</td>\n",
              "      <td>23100.0</td>\n",
              "    </tr>\n",
              "    <tr>\n",
              "      <th>Montaña Panadero</th>\n",
              "      <td>16590.0</td>\n",
              "      <td>38010.0</td>\n",
              "      <td>22050.0</td>\n",
              "    </tr>\n",
              "    <tr>\n",
              "      <th>Monte Japón</th>\n",
              "      <td>NaN</td>\n",
              "      <td>8190.0</td>\n",
              "      <td>840.0</td>\n",
              "    </tr>\n",
              "    <tr>\n",
              "      <th>Puente Roto</th>\n",
              "      <td>14490.0</td>\n",
              "      <td>16800.0</td>\n",
              "      <td>16380.0</td>\n",
              "    </tr>\n",
              "    <tr>\n",
              "      <th>Ski Comanche</th>\n",
              "      <td>5040.0</td>\n",
              "      <td>20160.0</td>\n",
              "      <td>8400.0</td>\n",
              "    </tr>\n",
              "  </tbody>\n",
              "</table>\n",
              "</div>\n",
              "      <button class=\"colab-df-convert\" onclick=\"convertToInteractive('df-efa8f573-64e5-46bc-bc48-d74241fcb6d7')\"\n",
              "              title=\"Convert this dataframe to an interactive table.\"\n",
              "              style=\"display:none;\">\n",
              "        \n",
              "  <svg xmlns=\"http://www.w3.org/2000/svg\" height=\"24px\"viewBox=\"0 0 24 24\"\n",
              "       width=\"24px\">\n",
              "    <path d=\"M0 0h24v24H0V0z\" fill=\"none\"/>\n",
              "    <path d=\"M18.56 5.44l.94 2.06.94-2.06 2.06-.94-2.06-.94-.94-2.06-.94 2.06-2.06.94zm-11 1L8.5 8.5l.94-2.06 2.06-.94-2.06-.94L8.5 2.5l-.94 2.06-2.06.94zm10 10l.94 2.06.94-2.06 2.06-.94-2.06-.94-.94-2.06-.94 2.06-2.06.94z\"/><path d=\"M17.41 7.96l-1.37-1.37c-.4-.4-.92-.59-1.43-.59-.52 0-1.04.2-1.43.59L10.3 9.45l-7.72 7.72c-.78.78-.78 2.05 0 2.83L4 21.41c.39.39.9.59 1.41.59.51 0 1.02-.2 1.41-.59l7.78-7.78 2.81-2.81c.8-.78.8-2.07 0-2.86zM5.41 20L4 18.59l7.72-7.72 1.47 1.35L5.41 20z\"/>\n",
              "  </svg>\n",
              "      </button>\n",
              "      \n",
              "  <style>\n",
              "    .colab-df-container {\n",
              "      display:flex;\n",
              "      flex-wrap:wrap;\n",
              "      gap: 12px;\n",
              "    }\n",
              "\n",
              "    .colab-df-convert {\n",
              "      background-color: #E8F0FE;\n",
              "      border: none;\n",
              "      border-radius: 50%;\n",
              "      cursor: pointer;\n",
              "      display: none;\n",
              "      fill: #1967D2;\n",
              "      height: 32px;\n",
              "      padding: 0 0 0 0;\n",
              "      width: 32px;\n",
              "    }\n",
              "\n",
              "    .colab-df-convert:hover {\n",
              "      background-color: #E2EBFA;\n",
              "      box-shadow: 0px 1px 2px rgba(60, 64, 67, 0.3), 0px 1px 3px 1px rgba(60, 64, 67, 0.15);\n",
              "      fill: #174EA6;\n",
              "    }\n",
              "\n",
              "    [theme=dark] .colab-df-convert {\n",
              "      background-color: #3B4455;\n",
              "      fill: #D2E3FC;\n",
              "    }\n",
              "\n",
              "    [theme=dark] .colab-df-convert:hover {\n",
              "      background-color: #434B5C;\n",
              "      box-shadow: 0px 1px 3px 1px rgba(0, 0, 0, 0.15);\n",
              "      filter: drop-shadow(0px 1px 2px rgba(0, 0, 0, 0.3));\n",
              "      fill: #FFFFFF;\n",
              "    }\n",
              "  </style>\n",
              "\n",
              "      <script>\n",
              "        const buttonEl =\n",
              "          document.querySelector('#df-efa8f573-64e5-46bc-bc48-d74241fcb6d7 button.colab-df-convert');\n",
              "        buttonEl.style.display =\n",
              "          google.colab.kernel.accessAllowed ? 'block' : 'none';\n",
              "\n",
              "        async function convertToInteractive(key) {\n",
              "          const element = document.querySelector('#df-efa8f573-64e5-46bc-bc48-d74241fcb6d7');\n",
              "          const dataTable =\n",
              "            await google.colab.kernel.invokeFunction('convertToInteractive',\n",
              "                                                     [key], {});\n",
              "          if (!dataTable) return;\n",
              "\n",
              "          const docLinkHtml = 'Like what you see? Visit the ' +\n",
              "            '<a target=\"_blank\" href=https://colab.research.google.com/notebooks/data_table.ipynb>data table notebook</a>'\n",
              "            + ' to learn more about interactive tables.';\n",
              "          element.innerHTML = '';\n",
              "          dataTable['output_type'] = 'display_data';\n",
              "          await google.colab.output.renderOutput(dataTable, element);\n",
              "          const docLink = document.createElement('div');\n",
              "          docLink.innerHTML = docLinkHtml;\n",
              "          element.appendChild(docLink);\n",
              "        }\n",
              "      </script>\n",
              "    </div>\n",
              "  </div>\n",
              "  "
            ]
          },
          "metadata": {},
          "execution_count": 140
        }
      ]
    },
    {
      "cell_type": "code",
      "source": [
        "ski_resort.plot(kind = 'bar', title = 'Продажи по курортам', ylabel = 'сумма в $',stacked = True)"
      ],
      "metadata": {
        "colab": {
          "base_uri": "https://localhost:8080/",
          "height": 574
        },
        "id": "UJMFz2d84ehf",
        "outputId": "99075b67-d7ff-412c-8065-cda6941b2e5b"
      },
      "execution_count": 141,
      "outputs": [
        {
          "output_type": "execute_result",
          "data": {
            "text/plain": [
              "<matplotlib.axes._subplots.AxesSubplot at 0x7f6a41db8310>"
            ]
          },
          "metadata": {},
          "execution_count": 141
        },
        {
          "output_type": "display_data",
          "data": {
            "text/plain": [
              "<Figure size 792x504 with 1 Axes>"
            ],
            "image/png": "[encoded data removed]"
          },
          "metadata": {}
        }
      ]
    },
    {
      "cell_type": "markdown",
      "source": [
        "Есть явный лидер и явный аутсайдер, а остальные 4 курорта конкурируют на равных +/- Но с огромным оставанием от лидера. Также интресно, что 2018 год был заметно успешнее 2019 у всех"
      ],
      "metadata": {
        "id": "Y55DUfoA5hOW"
      }
    },
    {
      "cell_type": "markdown",
      "source": [
        "№3 "
      ],
      "metadata": {
        "id": "R7TD_4apv6cs"
      }
    },
    {
      "cell_type": "code",
      "source": [
        "ski_bought_in = ski_r.groupby('Bought_in').agg({'Total_price':'sum'})"
      ],
      "metadata": {
        "id": "5YrB6jHQrhlp"
      },
      "execution_count": 142,
      "outputs": []
    },
    {
      "cell_type": "code",
      "source": [
        "ski_bought_in['Total_price'].plot(kind = 'pie', title = 'Доля продаж внесезон')"
      ],
      "metadata": {
        "colab": {
          "base_uri": "https://localhost:8080/",
          "height": 444
        },
        "id": "vWory3r8td5U",
        "outputId": "5b837e77-fcdb-4937-8e16-189e22031a47"
      },
      "execution_count": 143,
      "outputs": [
        {
          "output_type": "execute_result",
          "data": {
            "text/plain": [
              "<matplotlib.axes._subplots.AxesSubplot at 0x7f6a41d8a220>"
            ]
          },
          "metadata": {},
          "execution_count": 143
        },
        {
          "output_type": "display_data",
          "data": {
            "text/plain": [
              "<Figure size 792x504 with 1 Axes>"
            ],
            "image/png": "[encoded data removed]"
          },
          "metadata": {}
        }
      ]
    },
    {
      "cell_type": "markdown",
      "source": [
        "вот такую долю курорты продают по раннему бронированию. Это хорошая доля, значит маркетинг работает, значит оправданно\n",
        "давать маркетингу бюджет, чтобы эта доля сохранялась/росла, потому что курортам летом тоже очень нужен оборот"
      ],
      "metadata": {
        "id": "RijopVIa56xG"
      }
    },
    {
      "cell_type": "markdown",
      "source": [
        "#4"
      ],
      "metadata": {
        "id": "Ex5atLyV9qUn"
      }
    },
    {
      "cell_type": "code",
      "source": [
        "ski_r['Total_price'].plot(kind = 'box', grid = True, title = 'Распределение размера чека')"
      ],
      "metadata": {
        "colab": {
          "base_uri": "https://localhost:8080/",
          "height": 465
        },
        "id": "OdviqzFr9sQG",
        "outputId": "7e190e1c-f4a0-473b-f910-04c2c0e1de06"
      },
      "execution_count": 144,
      "outputs": [
        {
          "output_type": "execute_result",
          "data": {
            "text/plain": [
              "<matplotlib.axes._subplots.AxesSubplot at 0x7f6a41d08970>"
            ]
          },
          "metadata": {},
          "execution_count": 144
        },
        {
          "output_type": "display_data",
          "data": {
            "text/plain": [
              "<Figure size 792x504 with 1 Axes>"
            ],
            "image/png": "[encoded data removed]"
          },
          "metadata": {}
        }
      ]
    },
    {
      "cell_type": "markdown",
      "source": [
        "По ценам вот такое распределение имеет в общем. "
      ],
      "metadata": {
        "id": "g7KjeoauBybD"
      }
    },
    {
      "cell_type": "markdown",
      "source": [
        "#5"
      ],
      "metadata": {
        "id": "w39H8DtfDG90"
      }
    },
    {
      "cell_type": "code",
      "source": [
        "sns.boxplot(data = ski_r, y = 'Original_Resort', x = 'Total_price')"
      ],
      "metadata": {
        "colab": {
          "base_uri": "https://localhost:8080/",
          "height": 465
        },
        "id": "0BbJGzV5DGCc",
        "outputId": "33aabafa-e494-428f-ad14-edc568cb1ed3"
      },
      "execution_count": 145,
      "outputs": [
        {
          "output_type": "execute_result",
          "data": {
            "text/plain": [
              "<matplotlib.axes._subplots.AxesSubplot at 0x7f6a41cd9df0>"
            ]
          },
          "metadata": {},
          "execution_count": 145
        },
        {
          "output_type": "display_data",
          "data": {
            "text/plain": [
              "<Figure size 792x504 with 1 Axes>"
            ],
            "image/png": "[encoded data removed]"
          },
          "metadata": {}
        }
      ]
    },
    {
      "cell_type": "markdown",
      "source": [
        "То же самое распределение чека по курортам. Silbador который фаворит имеет и медиану чуть повыше, и максимум сильно выше. Остальные четыре конкурента равных явно две тенденции демонстрируют разных: сиреневый и зеленый дороже стремятся продавать, но мы помним, что у них финансовые показатели намного хуже, чем у желтого с красным."
      ],
      "metadata": {
        "id": "rfW3okvcElx8"
      }
    },
    {
      "cell_type": "code",
      "source": [
        "sns.boxplot(data = ski_r, y = 'year', x = 'Total_price')"
      ],
      "metadata": {
        "colab": {
          "base_uri": "https://localhost:8080/",
          "height": 465
        },
        "id": "soE7sU6kF-wV",
        "outputId": "40296725-7fc3-4e65-ca36-955caa10cc71"
      },
      "execution_count": 146,
      "outputs": [
        {
          "output_type": "execute_result",
          "data": {
            "text/plain": [
              "<matplotlib.axes._subplots.AxesSubplot at 0x7f6a41bb3c40>"
            ]
          },
          "metadata": {},
          "execution_count": 146
        },
        {
          "output_type": "display_data",
          "data": {
            "text/plain": [
              "<Figure size 792x504 with 1 Axes>"
            ],
            "image/png": "[encoded data removed]"
          },
          "metadata": {}
        }
      ]
    },
    {
      "cell_type": "markdown",
      "source": [
        "2018 и 2019 корректно сравнивать. Вырос в 2019 межквартильный размах в сторону дорогих продаж, но мы помним, что в абсолютном выражении показатель продаж упал."
      ],
      "metadata": {
        "id": "IciJcKjUJvS5"
      }
    },
    {
      "cell_type": "code",
      "source": [
        "ski_pass = ski_r.pivot_table(index = 'Original_Resort', columns = 'Amount_of_days', values = 'Id', aggfunc = 'count' ).fillna(0)"
      ],
      "metadata": {
        "id": "OqhwA6yyG8v7"
      },
      "execution_count": 147,
      "outputs": []
    },
    {
      "cell_type": "code",
      "source": [
        "ski_pass.head(6)"
      ],
      "metadata": {
        "colab": {
          "base_uri": "https://localhost:8080/",
          "height": 269
        },
        "id": "5yAP0AGDHqfe",
        "outputId": "d57f979e-ebc0-4475-9aa7-16befcc8ef38"
      },
      "execution_count": 148,
      "outputs": [
        {
          "output_type": "execute_result",
          "data": {
            "text/plain": [
              "Amount_of_days      1     2     3     4     5     6     7     8     9      10\n",
              "Original_Resort                                                              \n",
              "Cresta Velo        8.0   6.0   5.0   4.0  10.0   9.0   9.0   8.0   6.0    0.0\n",
              "Montaña Panadero   8.0   8.0   7.0   5.0  10.0   7.0  14.0   7.0   6.0    0.0\n",
              "Monte Japón        0.0   2.0   0.0   4.0   2.0   1.0   1.0   0.0   0.0    0.0\n",
              "Puente Roto        3.0   6.0   4.0   4.0   5.0   4.0   6.0   6.0   5.0    0.0\n",
              "Ski Comanche       5.0   2.0   1.0   5.0   5.0   0.0   5.0   4.0   4.0    0.0\n",
              "Valle Silbador    68.0  59.0  59.0  47.0  54.0  61.0  67.0  56.0  66.0  148.0"
            ],
            "text/html": [
              "\n",
              "  <div id=\"df-96d6e669-a8d5-489a-b843-8c8afb4865dc\">\n",
              "    <div class=\"colab-df-container\">\n",
              "      <div>\n",
              "<style scoped>\n",
              "    .dataframe tbody tr th:only-of-type {\n",
              "        vertical-align: middle;\n",
              "    }\n",
              "\n",
              "    .dataframe tbody tr th {\n",
              "        vertical-align: top;\n",
              "    }\n",
              "\n",
              "    .dataframe thead th {\n",
              "        text-align: right;\n",
              "    }\n",
              "</style>\n",
              "<table border=\"1\" class=\"dataframe\">\n",
              "  <thead>\n",
              "    <tr style=\"text-align: right;\">\n",
              "      <th>Amount_of_days</th>\n",
              "      <th>1</th>\n",
              "      <th>2</th>\n",
              "      <th>3</th>\n",
              "      <th>4</th>\n",
              "      <th>5</th>\n",
              "      <th>6</th>\n",
              "      <th>7</th>\n",
              "      <th>8</th>\n",
              "      <th>9</th>\n",
              "      <th>10</th>\n",
              "    </tr>\n",
              "    <tr>\n",
              "      <th>Original_Resort</th>\n",
              "      <th></th>\n",
              "      <th></th>\n",
              "      <th></th>\n",
              "      <th></th>\n",
              "      <th></th>\n",
              "      <th></th>\n",
              "      <th></th>\n",
              "      <th></th>\n",
              "      <th></th>\n",
              "      <th></th>\n",
              "    </tr>\n",
              "  </thead>\n",
              "  <tbody>\n",
              "    <tr>\n",
              "      <th>Cresta Velo</th>\n",
              "      <td>8.0</td>\n",
              "      <td>6.0</td>\n",
              "      <td>5.0</td>\n",
              "      <td>4.0</td>\n",
              "      <td>10.0</td>\n",
              "      <td>9.0</td>\n",
              "      <td>9.0</td>\n",
              "      <td>8.0</td>\n",
              "      <td>6.0</td>\n",
              "      <td>0.0</td>\n",
              "    </tr>\n",
              "    <tr>\n",
              "      <th>Montaña Panadero</th>\n",
              "      <td>8.0</td>\n",
              "      <td>8.0</td>\n",
              "      <td>7.0</td>\n",
              "      <td>5.0</td>\n",
              "      <td>10.0</td>\n",
              "      <td>7.0</td>\n",
              "      <td>14.0</td>\n",
              "      <td>7.0</td>\n",
              "      <td>6.0</td>\n",
              "      <td>0.0</td>\n",
              "    </tr>\n",
              "    <tr>\n",
              "      <th>Monte Japón</th>\n",
              "      <td>0.0</td>\n",
              "      <td>2.0</td>\n",
              "      <td>0.0</td>\n",
              "      <td>4.0</td>\n",
              "      <td>2.0</td>\n",
              "      <td>1.0</td>\n",
              "      <td>1.0</td>\n",
              "      <td>0.0</td>\n",
              "      <td>0.0</td>\n",
              "      <td>0.0</td>\n",
              "    </tr>\n",
              "    <tr>\n",
              "      <th>Puente Roto</th>\n",
              "      <td>3.0</td>\n",
              "      <td>6.0</td>\n",
              "      <td>4.0</td>\n",
              "      <td>4.0</td>\n",
              "      <td>5.0</td>\n",
              "      <td>4.0</td>\n",
              "      <td>6.0</td>\n",
              "      <td>6.0</td>\n",
              "      <td>5.0</td>\n",
              "      <td>0.0</td>\n",
              "    </tr>\n",
              "    <tr>\n",
              "      <th>Ski Comanche</th>\n",
              "      <td>5.0</td>\n",
              "      <td>2.0</td>\n",
              "      <td>1.0</td>\n",
              "      <td>5.0</td>\n",
              "      <td>5.0</td>\n",
              "      <td>0.0</td>\n",
              "      <td>5.0</td>\n",
              "      <td>4.0</td>\n",
              "      <td>4.0</td>\n",
              "      <td>0.0</td>\n",
              "    </tr>\n",
              "    <tr>\n",
              "      <th>Valle Silbador</th>\n",
              "      <td>68.0</td>\n",
              "      <td>59.0</td>\n",
              "      <td>59.0</td>\n",
              "      <td>47.0</td>\n",
              "      <td>54.0</td>\n",
              "      <td>61.0</td>\n",
              "      <td>67.0</td>\n",
              "      <td>56.0</td>\n",
              "      <td>66.0</td>\n",
              "      <td>148.0</td>\n",
              "    </tr>\n",
              "  </tbody>\n",
              "</table>\n",
              "</div>\n",
              "      <button class=\"colab-df-convert\" onclick=\"convertToInteractive('df-96d6e669-a8d5-489a-b843-8c8afb4865dc')\"\n",
              "              title=\"Convert this dataframe to an interactive table.\"\n",
              "              style=\"display:none;\">\n",
              "        \n",
              "  <svg xmlns=\"http://www.w3.org/2000/svg\" height=\"24px\"viewBox=\"0 0 24 24\"\n",
              "       width=\"24px\">\n",
              "    <path d=\"M0 0h24v24H0V0z\" fill=\"none\"/>\n",
              "    <path d=\"M18.56 5.44l.94 2.06.94-2.06 2.06-.94-2.06-.94-.94-2.06-.94 2.06-2.06.94zm-11 1L8.5 8.5l.94-2.06 2.06-.94-2.06-.94L8.5 2.5l-.94 2.06-2.06.94zm10 10l.94 2.06.94-2.06 2.06-.94-2.06-.94-.94-2.06-.94 2.06-2.06.94z\"/><path d=\"M17.41 7.96l-1.37-1.37c-.4-.4-.92-.59-1.43-.59-.52 0-1.04.2-1.43.59L10.3 9.45l-7.72 7.72c-.78.78-.78 2.05 0 2.83L4 21.41c.39.39.9.59 1.41.59.51 0 1.02-.2 1.41-.59l7.78-7.78 2.81-2.81c.8-.78.8-2.07 0-2.86zM5.41 20L4 18.59l7.72-7.72 1.47 1.35L5.41 20z\"/>\n",
              "  </svg>\n",
              "      </button>\n",
              "      \n",
              "  <style>\n",
              "    .colab-df-container {\n",
              "      display:flex;\n",
              "      flex-wrap:wrap;\n",
              "      gap: 12px;\n",
              "    }\n",
              "\n",
              "    .colab-df-convert {\n",
              "      background-color: #E8F0FE;\n",
              "      border: none;\n",
              "      border-radius: 50%;\n",
              "      cursor: pointer;\n",
              "      display: none;\n",
              "      fill: #1967D2;\n",
              "      height: 32px;\n",
              "      padding: 0 0 0 0;\n",
              "      width: 32px;\n",
              "    }\n",
              "\n",
              "    .colab-df-convert:hover {\n",
              "      background-color: #E2EBFA;\n",
              "      box-shadow: 0px 1px 2px rgba(60, 64, 67, 0.3), 0px 1px 3px 1px rgba(60, 64, 67, 0.15);\n",
              "      fill: #174EA6;\n",
              "    }\n",
              "\n",
              "    [theme=dark] .colab-df-convert {\n",
              "      background-color: #3B4455;\n",
              "      fill: #D2E3FC;\n",
              "    }\n",
              "\n",
              "    [theme=dark] .colab-df-convert:hover {\n",
              "      background-color: #434B5C;\n",
              "      box-shadow: 0px 1px 3px 1px rgba(0, 0, 0, 0.15);\n",
              "      filter: drop-shadow(0px 1px 2px rgba(0, 0, 0, 0.3));\n",
              "      fill: #FFFFFF;\n",
              "    }\n",
              "  </style>\n",
              "\n",
              "      <script>\n",
              "        const buttonEl =\n",
              "          document.querySelector('#df-96d6e669-a8d5-489a-b843-8c8afb4865dc button.colab-df-convert');\n",
              "        buttonEl.style.display =\n",
              "          google.colab.kernel.accessAllowed ? 'block' : 'none';\n",
              "\n",
              "        async function convertToInteractive(key) {\n",
              "          const element = document.querySelector('#df-96d6e669-a8d5-489a-b843-8c8afb4865dc');\n",
              "          const dataTable =\n",
              "            await google.colab.kernel.invokeFunction('convertToInteractive',\n",
              "                                                     [key], {});\n",
              "          if (!dataTable) return;\n",
              "\n",
              "          const docLinkHtml = 'Like what you see? Visit the ' +\n",
              "            '<a target=\"_blank\" href=https://colab.research.google.com/notebooks/data_table.ipynb>data table notebook</a>'\n",
              "            + ' to learn more about interactive tables.';\n",
              "          element.innerHTML = '';\n",
              "          dataTable['output_type'] = 'display_data';\n",
              "          await google.colab.output.renderOutput(dataTable, element);\n",
              "          const docLink = document.createElement('div');\n",
              "          docLink.innerHTML = docLinkHtml;\n",
              "          element.appendChild(docLink);\n",
              "        }\n",
              "      </script>\n",
              "    </div>\n",
              "  </div>\n",
              "  "
            ]
          },
          "metadata": {},
          "execution_count": 148
        }
      ]
    },
    {
      "cell_type": "code",
      "source": [
        "sns.heatmap(ski_pass, cmap = 'PuBu')"
      ],
      "metadata": {
        "colab": {
          "base_uri": "https://localhost:8080/",
          "height": 465
        },
        "id": "m3WfrUW0ISXV",
        "outputId": "a9a20d1f-5919-4e62-a016-7a62acb7451e"
      },
      "execution_count": 149,
      "outputs": [
        {
          "output_type": "execute_result",
          "data": {
            "text/plain": [
              "<matplotlib.axes._subplots.AxesSubplot at 0x7f6a42724220>"
            ]
          },
          "metadata": {},
          "execution_count": 149
        },
        {
          "output_type": "display_data",
          "data": {
            "text/plain": [
              "<Figure size 792x504 with 2 Axes>"
            ],
            "image/png": "[encoded data removed]"
          },
          "metadata": {}
        }
      ]
    },
    {
      "cell_type": "markdown",
      "source": [
        "Sibador доминирует по количеству проданных скипасов, понятное дело, но интересно, что он больше всего продает сезонных скипасов, это необычно. А кроме него сезонников вообще никто не продает. Также видно, что скипассы на 6-9 дней пользуются популярностью даже больше, чем на 2-3, а на 4 дня вообще никто почти не покупает."
      ],
      "metadata": {
        "id": "WOKtOPWUI6oJ"
      }
    },
    {
      "cell_type": "code",
      "source": [
        "sns.scatterplot(data = ski_r, x = 'Amount_of_days', y = 'Total_price', hue = 'Original_Resort')"
      ],
      "metadata": {
        "colab": {
          "base_uri": "https://localhost:8080/",
          "height": 465
        },
        "id": "ibrMWbq3U3Gh",
        "outputId": "8dbbe38b-42cf-479a-b47f-3af33d9c5823"
      },
      "execution_count": 154,
      "outputs": [
        {
          "output_type": "execute_result",
          "data": {
            "text/plain": [
              "<matplotlib.axes._subplots.AxesSubplot at 0x7f6a41a41df0>"
            ]
          },
          "metadata": {},
          "execution_count": 154
        },
        {
          "output_type": "display_data",
          "data": {
            "text/plain": [
              "<Figure size 792x504 with 1 Axes>"
            ],
            "image/png": "[encoded data removed]"
          },
          "metadata": {}
        }
      ]
    },
    {
      "cell_type": "markdown",
      "source": [
        "Такой синтетический пример: взаимосвязь количества катальных дней и цены скипасса. Взаимосвязь прямая. Использовал дополнительный параметр, который подсвечивает цену по каждому курорту, и оказалось на самом массовом курорте самые дешевые скипассы!"
      ],
      "metadata": {
        "id": "QekiatbxXwDw"
      }
    }
  ]
}